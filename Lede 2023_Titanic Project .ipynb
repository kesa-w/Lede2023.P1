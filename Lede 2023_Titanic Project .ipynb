{
 "cells": [
  {
   "cell_type": "code",
   "execution_count": 3,
   "id": "736879cd",
   "metadata": {
    "scrolled": true
   },
   "outputs": [
    {
     "name": "stdout",
     "output_type": "stream",
     "text": [
      "    PassengerId  Survived  Pclass  \\\n",
      "0             1       0.0     3.0   \n",
      "1             2       1.0     1.0   \n",
      "2             3       1.0     3.0   \n",
      "3             4       1.0     1.0   \n",
      "4             5       0.0     3.0   \n",
      "..          ...       ...     ...   \n",
      "887         888       1.0     1.0   \n",
      "888         889       0.0     3.0   \n",
      "889         890       1.0     1.0   \n",
      "890         891       0.0     3.0   \n",
      "891         >>        NaN     NaN   \n",
      "\n",
      "                                                  Name     Sex   Age  SibSp  \\\n",
      "0                              Braund, Mr. Owen Harris    male  22.0    1.0   \n",
      "1    Cumings, Mrs. John Bradley (Florence Briggs Th...  female  38.0    1.0   \n",
      "2                               Heikkinen, Miss. Laina  female  26.0    0.0   \n",
      "3         Futrelle, Mrs. Jacques Heath (Lily May Peel)  female  35.0    1.0   \n",
      "4                             Allen, Mr. William Henry    male  35.0    0.0   \n",
      "..                                                 ...     ...   ...    ...   \n",
      "887                       Graham, Miss. Margaret Edith  female  19.0    0.0   \n",
      "888           Johnston, Miss. Catherine Helen \"Carrie\"  female   NaN    1.0   \n",
      "889                              Behr, Mr. Karl Howell    male  26.0    0.0   \n",
      "890                                Dooley, Mr. Patrick    male  32.0    0.0   \n",
      "891                                                NaN     NaN   NaN    NaN   \n",
      "\n",
      "     Parch            Ticket     Fare Cabin Embarked  \n",
      "0      0.0         A/5 21171   7.2500   NaN        S  \n",
      "1      0.0          PC 17599  71.2833   C85        C  \n",
      "2      0.0  STON/O2. 3101282   7.9250   NaN        S  \n",
      "3      0.0            113803  53.1000  C123        S  \n",
      "4      0.0            373450   8.0500   NaN        S  \n",
      "..     ...               ...      ...   ...      ...  \n",
      "887    0.0            112053  30.0000   B42        S  \n",
      "888    2.0        W./C. 6607  23.4500   NaN        S  \n",
      "889    0.0            111369  30.0000  C148        C  \n",
      "890    0.0            370376   7.7500   NaN        Q  \n",
      "891    NaN               NaN      NaN   NaN      NaN  \n",
      "\n",
      "[892 rows x 12 columns]\n"
     ]
    }
   ],
   "source": [
    "import pandas as pd\n",
    "import numpy as np\n",
    "import csv\n",
    "\n",
    "#Inputs the CSV file into the notebook \n",
    "titanic = pd.read_csv(\"titanic_data.csv\")\n",
    "print(titanic)\n",
    "\n",
    "#This version contains some rows that are not complete"
   ]
  },
  {
   "cell_type": "code",
   "execution_count": null,
   "id": "5ab82aa1",
   "metadata": {
    "scrolled": true
   },
   "outputs": [],
   "source": [
    "#Cleaning data to remove rows were atleast one variable is missing and only look in \n",
    "titanic.dropna\n",
    "titanic.dropna(how='all')\n",
    "titanic.dropna(subset=['Survived', 'Pclass', 'Sex', 'Age'])"
   ]
  },
  {
   "cell_type": "code",
   "execution_count": 226,
   "id": "e2cd101c",
   "metadata": {
    "scrolled": true
   },
   "outputs": [
    {
     "name": "stdout",
     "output_type": "stream",
     "text": [
      "<class 'pandas.core.frame.DataFrame'>\n",
      "RangeIndex: 892 entries, 0 to 891\n",
      "Data columns (total 12 columns):\n",
      " #   Column       Non-Null Count  Dtype  \n",
      "---  ------       --------------  -----  \n",
      " 0   PassengerId  892 non-null    object \n",
      " 1   Survived     891 non-null    float64\n",
      " 2   Pclass       891 non-null    float64\n",
      " 3   Name         891 non-null    object \n",
      " 4   Sex          891 non-null    object \n",
      " 5   Age          714 non-null    float64\n",
      " 6   SibSp        891 non-null    float64\n",
      " 7   Parch        891 non-null    float64\n",
      " 8   Ticket       891 non-null    object \n",
      " 9   Fare         891 non-null    float64\n",
      " 10  Cabin        204 non-null    object \n",
      " 11  Embarked     889 non-null    object \n",
      "dtypes: float64(6), object(6)\n",
      "memory usage: 83.8+ KB\n"
     ]
    }
   ],
   "source": [
    "#Provides information on the Excel file categories\n",
    "titanic.info()"
   ]
  },
  {
   "cell_type": "code",
   "execution_count": 39,
   "id": "cf8cd226",
   "metadata": {},
   "outputs": [],
   "source": [
    "#Made it a new variable to show it's revised without the following columns\n",
    "r_titanic = titanic.drop(columns =['Cabin','Fare','Parch', 'Embarked',\"PassengerId\", 'Ticket', 'SibSp', 'Name'])"
   ]
  },
  {
   "cell_type": "code",
   "execution_count": 227,
   "id": "a603f28d",
   "metadata": {
    "scrolled": true
   },
   "outputs": [
    {
     "name": "stdout",
     "output_type": "stream",
     "text": [
      "<class 'pandas.core.frame.DataFrame'>\n",
      "RangeIndex: 892 entries, 0 to 891\n",
      "Data columns (total 4 columns):\n",
      " #   Column    Non-Null Count  Dtype  \n",
      "---  ------    --------------  -----  \n",
      " 0   Survived  891 non-null    float64\n",
      " 1   Pclass    891 non-null    float64\n",
      " 2   Sex       891 non-null    object \n",
      " 3   Age       714 non-null    float64\n",
      "dtypes: float64(3), object(1)\n",
      "memory usage: 28.0+ KB\n"
     ]
    }
   ],
   "source": [
    "#new variable info with the columns I want to see\n",
    "r_titanic.info()"
   ]
  },
  {
   "cell_type": "code",
   "execution_count": 198,
   "id": "52cd7739",
   "metadata": {},
   "outputs": [
    {
     "data": {
      "text/plain": [
       "80"
      ]
     },
     "execution_count": 198,
     "metadata": {},
     "output_type": "execute_result"
    }
   ],
   "source": [
    "#The oldest person on the ship\n",
    "round(max(r_titanic['Age']))"
   ]
  },
  {
   "cell_type": "code",
   "execution_count": 149,
   "id": "a911bec9",
   "metadata": {},
   "outputs": [
    {
     "name": "stdout",
     "output_type": "stream",
     "text": [
      "The oldest person the Titanic was 80 years old!\n"
     ]
    }
   ],
   "source": [
    "print(\"The oldest person the Titanic was\",round(max(r_titanic['Age'])),\"years old!\")"
   ]
  },
  {
   "cell_type": "code",
   "execution_count": 201,
   "id": "b992dd79",
   "metadata": {
    "scrolled": false
   },
   "outputs": [
    {
     "data": {
      "text/plain": [
       "0"
      ]
     },
     "execution_count": 201,
     "metadata": {},
     "output_type": "execute_result"
    }
   ],
   "source": [
    "#The youngest person on the ship \n",
    "min((r_titanic['Age']))# The answer was 0.42 \n",
    "round(min((r_titanic['Age']))) #I rounded up the answer and it was 0"
   ]
  },
  {
   "cell_type": "code",
   "execution_count": 12,
   "id": "f19cbb16",
   "metadata": {
    "scrolled": true
   },
   "outputs": [
    {
     "name": "stdout",
     "output_type": "stream",
     "text": [
      "The youngest person the Titanic was 0.42 years old, that means they were just a baby!\n"
     ]
    }
   ],
   "source": [
    "print(\"The youngest person the Titanic was\", min(titanic['Age']),\"years old, that means they were just a baby!\")"
   ]
  },
  {
   "cell_type": "code",
   "execution_count": 228,
   "id": "c7ef2184",
   "metadata": {
    "scrolled": true
   },
   "outputs": [
    {
     "name": "stdout",
     "output_type": "stream",
     "text": [
      "892\n",
      "There were 892 people on the Titanic!\n"
     ]
    }
   ],
   "source": [
    "print(len(r_titanic))\n",
    "print(\"There were\", len(r_titanic), \"people on the Titanic!\")"
   ]
  },
  {
   "cell_type": "code",
   "execution_count": 229,
   "id": "7d403f46",
   "metadata": {},
   "outputs": [
    {
     "data": {
      "text/plain": [
       "30"
      ]
     },
     "execution_count": 229,
     "metadata": {},
     "output_type": "execute_result"
    }
   ],
   "source": [
    "#Rounded up the average age on the titanic \n",
    "round(r_titanic[\"Age\"].mean())"
   ]
  },
  {
   "cell_type": "code",
   "execution_count": 230,
   "id": "977e8df5",
   "metadata": {},
   "outputs": [
    {
     "data": {
      "text/html": [
       "<div>\n",
       "<style scoped>\n",
       "    .dataframe tbody tr th:only-of-type {\n",
       "        vertical-align: middle;\n",
       "    }\n",
       "\n",
       "    .dataframe tbody tr th {\n",
       "        vertical-align: top;\n",
       "    }\n",
       "\n",
       "    .dataframe thead th {\n",
       "        text-align: right;\n",
       "    }\n",
       "</style>\n",
       "<table border=\"1\" class=\"dataframe\">\n",
       "  <thead>\n",
       "    <tr style=\"text-align: right;\">\n",
       "      <th></th>\n",
       "      <th>Age</th>\n",
       "    </tr>\n",
       "    <tr>\n",
       "      <th>Sex</th>\n",
       "      <th></th>\n",
       "    </tr>\n",
       "  </thead>\n",
       "  <tbody>\n",
       "    <tr>\n",
       "      <th>female</th>\n",
       "      <td>28.0</td>\n",
       "    </tr>\n",
       "    <tr>\n",
       "      <th>male</th>\n",
       "      <td>31.0</td>\n",
       "    </tr>\n",
       "  </tbody>\n",
       "</table>\n",
       "</div>"
      ],
      "text/plain": [
       "         Age\n",
       "Sex         \n",
       "female  28.0\n",
       "male    31.0"
      ]
     },
     "execution_count": 230,
     "metadata": {},
     "output_type": "execute_result"
    }
   ],
   "source": [
    "#Rounded the average age by sex \n",
    "round(r_titanic[[\"Sex\",\"Age\"]].groupby(\"Sex\").mean())"
   ]
  },
  {
   "cell_type": "code",
   "execution_count": 250,
   "id": "c2d8161b",
   "metadata": {
    "scrolled": false
   },
   "outputs": [
    {
     "data": {
      "text/plain": [
       "Sex     Pclass\n",
       "female  1.0        94\n",
       "        2.0        76\n",
       "        3.0       144\n",
       "male    1.0       122\n",
       "        2.0       108\n",
       "        3.0       347\n",
       "Name: Survived, dtype: int64"
      ]
     },
     "execution_count": 250,
     "metadata": {},
     "output_type": "execute_result"
    }
   ],
   "source": [
    "#Grouped data to see how many people survived/died from each class based on sex\n",
    "r_titanic.groupby([\"Sex\", \"Pclass\"])[\"Survived\"].count()"
   ]
  },
  {
   "cell_type": "code",
   "execution_count": 146,
   "id": "16874efe",
   "metadata": {},
   "outputs": [
    {
     "name": "stdout",
     "output_type": "stream",
     "text": [
      "Women from third class had the most survivors!\n",
      "Men from 3rd class had the most survivors!\n"
     ]
    }
   ],
   "source": [
    "#Printing the number of most survivors based on gender and class \n",
    "print(\"Women from third class had the most survivors!\")\n",
    "print(\"Men from 3rd class had the most survivors!\")"
   ]
  },
  {
   "cell_type": "code",
   "execution_count": 215,
   "id": "a0566545",
   "metadata": {
    "scrolled": true
   },
   "outputs": [
    {
     "data": {
      "text/html": [
       "<div>\n",
       "<style scoped>\n",
       "    .dataframe tbody tr th:only-of-type {\n",
       "        vertical-align: middle;\n",
       "    }\n",
       "\n",
       "    .dataframe tbody tr th {\n",
       "        vertical-align: top;\n",
       "    }\n",
       "\n",
       "    .dataframe thead th {\n",
       "        text-align: right;\n",
       "    }\n",
       "</style>\n",
       "<table border=\"1\" class=\"dataframe\">\n",
       "  <thead>\n",
       "    <tr style=\"text-align: right;\">\n",
       "      <th></th>\n",
       "      <th>Survived</th>\n",
       "      <th>Pclass</th>\n",
       "      <th>Sex</th>\n",
       "      <th>Age</th>\n",
       "    </tr>\n",
       "  </thead>\n",
       "  <tbody>\n",
       "    <tr>\n",
       "      <th>1</th>\n",
       "      <td>1.0</td>\n",
       "      <td>1.0</td>\n",
       "      <td>female</td>\n",
       "      <td>38.0</td>\n",
       "    </tr>\n",
       "    <tr>\n",
       "      <th>2</th>\n",
       "      <td>1.0</td>\n",
       "      <td>3.0</td>\n",
       "      <td>female</td>\n",
       "      <td>26.0</td>\n",
       "    </tr>\n",
       "    <tr>\n",
       "      <th>3</th>\n",
       "      <td>1.0</td>\n",
       "      <td>1.0</td>\n",
       "      <td>female</td>\n",
       "      <td>35.0</td>\n",
       "    </tr>\n",
       "    <tr>\n",
       "      <th>8</th>\n",
       "      <td>1.0</td>\n",
       "      <td>3.0</td>\n",
       "      <td>female</td>\n",
       "      <td>27.0</td>\n",
       "    </tr>\n",
       "    <tr>\n",
       "      <th>9</th>\n",
       "      <td>1.0</td>\n",
       "      <td>2.0</td>\n",
       "      <td>female</td>\n",
       "      <td>14.0</td>\n",
       "    </tr>\n",
       "    <tr>\n",
       "      <th>...</th>\n",
       "      <td>...</td>\n",
       "      <td>...</td>\n",
       "      <td>...</td>\n",
       "      <td>...</td>\n",
       "    </tr>\n",
       "    <tr>\n",
       "      <th>875</th>\n",
       "      <td>1.0</td>\n",
       "      <td>3.0</td>\n",
       "      <td>female</td>\n",
       "      <td>15.0</td>\n",
       "    </tr>\n",
       "    <tr>\n",
       "      <th>879</th>\n",
       "      <td>1.0</td>\n",
       "      <td>1.0</td>\n",
       "      <td>female</td>\n",
       "      <td>56.0</td>\n",
       "    </tr>\n",
       "    <tr>\n",
       "      <th>880</th>\n",
       "      <td>1.0</td>\n",
       "      <td>2.0</td>\n",
       "      <td>female</td>\n",
       "      <td>25.0</td>\n",
       "    </tr>\n",
       "    <tr>\n",
       "      <th>887</th>\n",
       "      <td>1.0</td>\n",
       "      <td>1.0</td>\n",
       "      <td>female</td>\n",
       "      <td>19.0</td>\n",
       "    </tr>\n",
       "    <tr>\n",
       "      <th>889</th>\n",
       "      <td>1.0</td>\n",
       "      <td>1.0</td>\n",
       "      <td>male</td>\n",
       "      <td>26.0</td>\n",
       "    </tr>\n",
       "  </tbody>\n",
       "</table>\n",
       "<p>342 rows × 4 columns</p>\n",
       "</div>"
      ],
      "text/plain": [
       "     Survived  Pclass     Sex   Age\n",
       "1         1.0     1.0  female  38.0\n",
       "2         1.0     3.0  female  26.0\n",
       "3         1.0     1.0  female  35.0\n",
       "8         1.0     3.0  female  27.0\n",
       "9         1.0     2.0  female  14.0\n",
       "..        ...     ...     ...   ...\n",
       "875       1.0     3.0  female  15.0\n",
       "879       1.0     1.0  female  56.0\n",
       "880       1.0     2.0  female  25.0\n",
       "887       1.0     1.0  female  19.0\n",
       "889       1.0     1.0    male  26.0\n",
       "\n",
       "[342 rows x 4 columns]"
      ]
     },
     "execution_count": 215,
     "metadata": {},
     "output_type": "execute_result"
    }
   ],
   "source": [
    "#Lists the age,sex, and class for everyone that survived\n",
    "r_titanic.loc[r_titanic['Survived'] == 1]"
   ]
  },
  {
   "cell_type": "code",
   "execution_count": 217,
   "id": "c9c5cc5a",
   "metadata": {
    "scrolled": true
   },
   "outputs": [
    {
     "data": {
      "text/html": [
       "<div>\n",
       "<style scoped>\n",
       "    .dataframe tbody tr th:only-of-type {\n",
       "        vertical-align: middle;\n",
       "    }\n",
       "\n",
       "    .dataframe tbody tr th {\n",
       "        vertical-align: top;\n",
       "    }\n",
       "\n",
       "    .dataframe thead th {\n",
       "        text-align: right;\n",
       "    }\n",
       "</style>\n",
       "<table border=\"1\" class=\"dataframe\">\n",
       "  <thead>\n",
       "    <tr style=\"text-align: right;\">\n",
       "      <th></th>\n",
       "      <th>Survived</th>\n",
       "      <th>Pclass</th>\n",
       "      <th>Sex</th>\n",
       "      <th>Age</th>\n",
       "    </tr>\n",
       "  </thead>\n",
       "  <tbody>\n",
       "    <tr>\n",
       "      <th>0</th>\n",
       "      <td>0.0</td>\n",
       "      <td>3.0</td>\n",
       "      <td>male</td>\n",
       "      <td>22.0</td>\n",
       "    </tr>\n",
       "    <tr>\n",
       "      <th>4</th>\n",
       "      <td>0.0</td>\n",
       "      <td>3.0</td>\n",
       "      <td>male</td>\n",
       "      <td>35.0</td>\n",
       "    </tr>\n",
       "    <tr>\n",
       "      <th>5</th>\n",
       "      <td>0.0</td>\n",
       "      <td>3.0</td>\n",
       "      <td>male</td>\n",
       "      <td>NaN</td>\n",
       "    </tr>\n",
       "    <tr>\n",
       "      <th>6</th>\n",
       "      <td>0.0</td>\n",
       "      <td>1.0</td>\n",
       "      <td>male</td>\n",
       "      <td>54.0</td>\n",
       "    </tr>\n",
       "    <tr>\n",
       "      <th>7</th>\n",
       "      <td>0.0</td>\n",
       "      <td>3.0</td>\n",
       "      <td>male</td>\n",
       "      <td>2.0</td>\n",
       "    </tr>\n",
       "    <tr>\n",
       "      <th>...</th>\n",
       "      <td>...</td>\n",
       "      <td>...</td>\n",
       "      <td>...</td>\n",
       "      <td>...</td>\n",
       "    </tr>\n",
       "    <tr>\n",
       "      <th>884</th>\n",
       "      <td>0.0</td>\n",
       "      <td>3.0</td>\n",
       "      <td>male</td>\n",
       "      <td>25.0</td>\n",
       "    </tr>\n",
       "    <tr>\n",
       "      <th>885</th>\n",
       "      <td>0.0</td>\n",
       "      <td>3.0</td>\n",
       "      <td>female</td>\n",
       "      <td>39.0</td>\n",
       "    </tr>\n",
       "    <tr>\n",
       "      <th>886</th>\n",
       "      <td>0.0</td>\n",
       "      <td>2.0</td>\n",
       "      <td>male</td>\n",
       "      <td>27.0</td>\n",
       "    </tr>\n",
       "    <tr>\n",
       "      <th>888</th>\n",
       "      <td>0.0</td>\n",
       "      <td>3.0</td>\n",
       "      <td>female</td>\n",
       "      <td>NaN</td>\n",
       "    </tr>\n",
       "    <tr>\n",
       "      <th>890</th>\n",
       "      <td>0.0</td>\n",
       "      <td>3.0</td>\n",
       "      <td>male</td>\n",
       "      <td>32.0</td>\n",
       "    </tr>\n",
       "  </tbody>\n",
       "</table>\n",
       "<p>549 rows × 4 columns</p>\n",
       "</div>"
      ],
      "text/plain": [
       "     Survived  Pclass     Sex   Age\n",
       "0         0.0     3.0    male  22.0\n",
       "4         0.0     3.0    male  35.0\n",
       "5         0.0     3.0    male   NaN\n",
       "6         0.0     1.0    male  54.0\n",
       "7         0.0     3.0    male   2.0\n",
       "..        ...     ...     ...   ...\n",
       "884       0.0     3.0    male  25.0\n",
       "885       0.0     3.0  female  39.0\n",
       "886       0.0     2.0    male  27.0\n",
       "888       0.0     3.0  female   NaN\n",
       "890       0.0     3.0    male  32.0\n",
       "\n",
       "[549 rows x 4 columns]"
      ]
     },
     "execution_count": 217,
     "metadata": {},
     "output_type": "execute_result"
    }
   ],
   "source": [
    "##Lists the age,sex, and class for everyone that survived\n",
    "r_titanic.loc[r_titanic['Survived'] == 0]"
   ]
  },
  {
   "cell_type": "code",
   "execution_count": 255,
   "id": "ce000d01",
   "metadata": {},
   "outputs": [
    {
     "data": {
      "text/plain": [
       "Survived\n",
       "0.0    62.0\n",
       "1.0    38.0\n",
       "Name: proportion, dtype: float64"
      ]
     },
     "execution_count": 255,
     "metadata": {},
     "output_type": "execute_result"
    }
   ],
   "source": [
    "#Percentage of people that survived and died \n",
    "round(r_titanic[\"Survived\"].value_counts(\"1.0\")*100)"
   ]
  },
  {
   "cell_type": "code",
   "execution_count": 279,
   "id": "1bde920d",
   "metadata": {},
   "outputs": [
    {
     "data": {
      "text/html": [
       "<div>\n",
       "<style scoped>\n",
       "    .dataframe tbody tr th:only-of-type {\n",
       "        vertical-align: middle;\n",
       "    }\n",
       "\n",
       "    .dataframe tbody tr th {\n",
       "        vertical-align: top;\n",
       "    }\n",
       "\n",
       "    .dataframe thead th {\n",
       "        text-align: right;\n",
       "    }\n",
       "</style>\n",
       "<table border=\"1\" class=\"dataframe\">\n",
       "  <thead>\n",
       "    <tr style=\"text-align: right;\">\n",
       "      <th></th>\n",
       "      <th>Survived</th>\n",
       "      <th>Pclass</th>\n",
       "      <th>Sex</th>\n",
       "      <th>Age</th>\n",
       "    </tr>\n",
       "  </thead>\n",
       "  <tbody>\n",
       "    <tr>\n",
       "      <th>1</th>\n",
       "      <td>1.0</td>\n",
       "      <td>1.0</td>\n",
       "      <td>female</td>\n",
       "      <td>38.0</td>\n",
       "    </tr>\n",
       "    <tr>\n",
       "      <th>2</th>\n",
       "      <td>1.0</td>\n",
       "      <td>3.0</td>\n",
       "      <td>female</td>\n",
       "      <td>26.0</td>\n",
       "    </tr>\n",
       "    <tr>\n",
       "      <th>3</th>\n",
       "      <td>1.0</td>\n",
       "      <td>1.0</td>\n",
       "      <td>female</td>\n",
       "      <td>35.0</td>\n",
       "    </tr>\n",
       "    <tr>\n",
       "      <th>8</th>\n",
       "      <td>1.0</td>\n",
       "      <td>3.0</td>\n",
       "      <td>female</td>\n",
       "      <td>27.0</td>\n",
       "    </tr>\n",
       "    <tr>\n",
       "      <th>9</th>\n",
       "      <td>1.0</td>\n",
       "      <td>2.0</td>\n",
       "      <td>female</td>\n",
       "      <td>14.0</td>\n",
       "    </tr>\n",
       "    <tr>\n",
       "      <th>...</th>\n",
       "      <td>...</td>\n",
       "      <td>...</td>\n",
       "      <td>...</td>\n",
       "      <td>...</td>\n",
       "    </tr>\n",
       "    <tr>\n",
       "      <th>875</th>\n",
       "      <td>1.0</td>\n",
       "      <td>3.0</td>\n",
       "      <td>female</td>\n",
       "      <td>15.0</td>\n",
       "    </tr>\n",
       "    <tr>\n",
       "      <th>879</th>\n",
       "      <td>1.0</td>\n",
       "      <td>1.0</td>\n",
       "      <td>female</td>\n",
       "      <td>56.0</td>\n",
       "    </tr>\n",
       "    <tr>\n",
       "      <th>880</th>\n",
       "      <td>1.0</td>\n",
       "      <td>2.0</td>\n",
       "      <td>female</td>\n",
       "      <td>25.0</td>\n",
       "    </tr>\n",
       "    <tr>\n",
       "      <th>887</th>\n",
       "      <td>1.0</td>\n",
       "      <td>1.0</td>\n",
       "      <td>female</td>\n",
       "      <td>19.0</td>\n",
       "    </tr>\n",
       "    <tr>\n",
       "      <th>889</th>\n",
       "      <td>1.0</td>\n",
       "      <td>1.0</td>\n",
       "      <td>male</td>\n",
       "      <td>26.0</td>\n",
       "    </tr>\n",
       "  </tbody>\n",
       "</table>\n",
       "<p>342 rows × 4 columns</p>\n",
       "</div>"
      ],
      "text/plain": [
       "     Survived  Pclass     Sex   Age\n",
       "1         1.0     1.0  female  38.0\n",
       "2         1.0     3.0  female  26.0\n",
       "3         1.0     1.0  female  35.0\n",
       "8         1.0     3.0  female  27.0\n",
       "9         1.0     2.0  female  14.0\n",
       "..        ...     ...     ...   ...\n",
       "875       1.0     3.0  female  15.0\n",
       "879       1.0     1.0  female  56.0\n",
       "880       1.0     2.0  female  25.0\n",
       "887       1.0     1.0  female  19.0\n",
       "889       1.0     1.0    male  26.0\n",
       "\n",
       "[342 rows x 4 columns]"
      ]
     },
     "execution_count": 279,
     "metadata": {},
     "output_type": "execute_result"
    }
   ],
   "source": [
    "r_titanic.loc[r_titanic['Survived'] == 1]"
   ]
  },
  {
   "cell_type": "code",
   "execution_count": 15,
   "id": "8dc507ce",
   "metadata": {
    "scrolled": false
   },
   "outputs": [
    {
     "data": {
      "image/png": "[encoded data removed]",
      "text/plain": [
       "<Figure size 640x480 with 1 Axes>"
      ]
     },
     "metadata": {},
     "output_type": "display_data"
    }
   ],
   "source": [
    "#Pie chart for \"Survived Variable\"\n",
    "\n",
    "import matplotlib.pyplot as plt\n",
    "import numpy as np\n",
    "\n",
    "y = np.array([38, 62])\n",
    "my_labels = [\"Survived\", \"Killed\"]\n",
    "my_title = [\"Survival Percentages\"]\n",
    "\n",
    "\n",
    "plt.pie(y, labels = my_labels)\n",
    "\n",
    "plt.title(\"Survival Rates\")\n",
    "plt.legend(title = \"Types\", loc = \"center left\")\n",
    "plt.show() \n",
    "\n"
   ]
  },
  {
   "cell_type": "code",
   "execution_count": 14,
   "id": "72b68581",
   "metadata": {
    "scrolled": true
   },
   "outputs": [
    {
     "data": {
      "image/png": "[encoded data removed]",
      "text/plain": [
       "<Figure size 640x480 with 1 Axes>"
      ]
     },
     "metadata": {},
     "output_type": "display_data"
    }
   ],
   "source": [
    "#Bar graph for comparing ages\n",
    "\n",
    "plt.title(\"Average Passenger Age\")\n",
    "x = np.array([\"Female\", \"Male\"])\n",
    "y = np.array([28, 31])\n",
    "\n",
    "plt.bar(x, y, width = 0.1, color = \"#4CAF50\")\n",
    "plt.show()\n",
    "\n"
   ]
  },
  {
   "cell_type": "code",
   "execution_count": null,
   "id": "a5190f16",
   "metadata": {},
   "outputs": [],
   "source": []
  }
 ],
 "metadata": {
  "kernelspec": {
   "display_name": "Python 3 (ipykernel)",
   "language": "python",
   "name": "python3"
  },
  "language_info": {
   "codemirror_mode": {
    "name": "ipython",
    "version": 3
   },
   "file_extension": ".py",
   "mimetype": "text/x-python",
   "name": "python",
   "nbconvert_exporter": "python",
   "pygments_lexer": "ipython3",
   "version": "3.10.11"
  }
 },
 "nbformat": 4,
 "nbformat_minor": 5
}
